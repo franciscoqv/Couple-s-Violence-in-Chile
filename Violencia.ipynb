{
 "cells": [
  {
   "cell_type": "markdown",
   "metadata": {},
   "source": [
    "# Libraries"
   ]
  },
  {
   "cell_type": "code",
   "execution_count": 30,
   "metadata": {},
   "outputs": [],
   "source": [
    "library(FFTrees)\n",
    "\n",
    "library(plyr)\n",
    "library(tidyverse)\n",
    "library(DT) # dependency\n",
    "library(ggthemes) # dependency"
   ]
  },
  {
   "cell_type": "markdown",
   "metadata": {
    "collapsed": true
   },
   "source": [
    "# Importing data"
   ]
  },
  {
   "cell_type": "code",
   "execution_count": 31,
   "metadata": {
    "collapsed": true
   },
   "outputs": [
    {
     "name": "stderr",
     "output_type": "stream",
     "text": [
      "Parsed with column specification:\n",
      "cols(\n",
      "  .default = col_character(),\n",
      "  id = col_integer(),\n",
      "  edad = col_integer(),\n",
      "  REGION = col_integer(),\n",
      "  POND = col_double()\n",
      ")\n",
      "See spec(...) for full column specifications.\n",
      "Parsed with column specification:\n",
      "cols(\n",
      "  Name = col_character(),\n",
      "  Type = col_character(),\n",
      "  Width = col_integer(),\n",
      "  Decimals = col_integer(),\n",
      "  Label = col_character(),\n",
      "  Measure = col_character(),\n",
      "  Column1 = col_integer()\n",
      ")\n"
     ]
    }
   ],
   "source": [
    "responses <- read_csv(\"data/responses.csv\")\n",
    "questions <- read_csv(\"data/questions.csv\")"
   ]
  },
  {
   "cell_type": "markdown",
   "metadata": {},
   "source": [
    "Tidyverse data"
   ]
  },
  {
   "cell_type": "code",
   "execution_count": 61,
   "metadata": {
    "collapsed": true
   },
   "outputs": [],
   "source": [
    "data <- responses %>% \n",
    "    gather(question, answer, starts_with(\"P\"))"
   ]
  },
  {
   "cell_type": "markdown",
   "metadata": {},
   "source": [
    "# Columns of interest"
   ]
  },
  {
   "cell_type": "markdown",
   "metadata": {},
   "source": [
    "### Demographics"
   ]
  },
  {
   "cell_type": "code",
   "execution_count": 37,
   "metadata": {},
   "outputs": [
    {
     "data": {
      "text/html": [
       "<table>\n",
       "<thead><tr><th scope=col>Name</th><th scope=col>Type</th><th scope=col>Width</th><th scope=col>Decimals</th><th scope=col>Label</th><th scope=col>Measure</th><th scope=col>Column1</th></tr></thead>\n",
       "<tbody>\n",
       "\t<tr><td>comuna                             </td><td>Numeric                            </td><td>8                                  </td><td>0                                  </td><td>NA                                 </td><td>Scale                              </td><td>NA                                 </td></tr>\n",
       "\t<tr><td>sexo                               </td><td>Numeric                            </td><td>1                                  </td><td>0                                  </td><td>Sexo                               </td><td>Nominal                            </td><td>NA                                 </td></tr>\n",
       "\t<tr><td>edad                               </td><td>Numeric                            </td><td>5                                  </td><td>0                                  </td><td>Cual es su edad (Registrar en años)</td><td>Scale                              </td><td>NA                                 </td></tr>\n",
       "</tbody>\n",
       "</table>\n"
      ],
      "text/latex": [
       "\\begin{tabular}{r|lllllll}\n",
       " Name & Type & Width & Decimals & Label & Measure & Column1\\\\\n",
       "\\hline\n",
       "\t comuna                              & Numeric                             & 8                                   & 0                                   & NA                                  & Scale                               & NA                                 \\\\\n",
       "\t sexo                                & Numeric                             & 1                                   & 0                                   & Sexo                                & Nominal                             & NA                                 \\\\\n",
       "\t edad                                & Numeric                             & 5                                   & 0                                   & Cual es su edad (Registrar en años) & Scale                               & NA                                 \\\\\n",
       "\\end{tabular}\n"
      ],
      "text/markdown": [
       "\n",
       "Name | Type | Width | Decimals | Label | Measure | Column1 | \n",
       "|---|---|---|\n",
       "| comuna                              | Numeric                             | 8                                   | 0                                   | NA                                  | Scale                               | NA                                  | \n",
       "| sexo                                | Numeric                             | 1                                   | 0                                   | Sexo                                | Nominal                             | NA                                  | \n",
       "| edad                                | Numeric                             | 5                                   | 0                                   | Cual es su edad (Registrar en años) | Scale                               | NA                                  | \n",
       "\n",
       "\n"
      ],
      "text/plain": [
       "  Name   Type    Width Decimals Label                               Measure\n",
       "1 comuna Numeric 8     0        NA                                  Scale  \n",
       "2 sexo   Numeric 1     0        Sexo                                Nominal\n",
       "3 edad   Numeric 5     0        Cual es su edad (Registrar en años) Scale  \n",
       "  Column1\n",
       "1 NA     \n",
       "2 NA     \n",
       "3 NA     "
      ]
     },
     "metadata": {},
     "output_type": "display_data"
    }
   ],
   "source": [
    "questions %>%\n",
    "    filter(Name == 'comuna' | Name == 'sexo' | Name == 'edad')"
   ]
  },
  {
   "cell_type": "markdown",
   "metadata": {},
   "source": [
    "### Questions\n",
    "- `P1`: Problemas que afectan a los jóvenes\n",
    "- `P2`: Qué acciones consideras violentas\n",
    "- `P3`: Causas de violencia en el pololeo\n",
    "- `P4`: Para ti, qué tan aceptable...\n",
    "- `P5`: Medios de comunicación\n",
    "- `P6`: Películas\n",
    "- `P7`: Programas de televisión\n",
    "- `P8`: Likert scale\n",
    "- `P9`: Para cuáles corresponde denunciar"
   ]
  },
  {
   "cell_type": "code",
   "execution_count": 48,
   "metadata": {},
   "outputs": [
    {
     "data": {
      "text/html": [
       "<table>\n",
       "<thead><tr><th scope=col>Label</th></tr></thead>\n",
       "<tbody>\n",
       "\t<tr><td>Qué tan de acuerdo o en desacuerdo estas con: En algunas ocasiones, las mujeres tienen actitudes que justifican que reciba actos de violencia por parte de su pareja</td></tr>\n",
       "</tbody>\n",
       "</table>\n"
      ],
      "text/latex": [
       "\\begin{tabular}{r|l}\n",
       " Label\\\\\n",
       "\\hline\n",
       "\t Qué tan de acuerdo o en desacuerdo estas con: En algunas ocasiones, las mujeres tienen actitudes que justifican que reciba actos de violencia por parte de su pareja\\\\\n",
       "\\end{tabular}\n"
      ],
      "text/markdown": [
       "\n",
       "Label | \n",
       "|---|\n",
       "| Qué tan de acuerdo o en desacuerdo estas con: En algunas ocasiones, las mujeres tienen actitudes que justifican que reciba actos de violencia por parte de su pareja | \n",
       "\n",
       "\n"
      ],
      "text/plain": [
       "  Label                                                                                                                                                               \n",
       "1 Qué tan de acuerdo o en desacuerdo estas con: En algunas ocasiones, las mujeres tienen actitudes que justifican que reciba actos de violencia por parte de su pareja"
      ]
     },
     "metadata": {},
     "output_type": "display_data"
    }
   ],
   "source": [
    "questions %>%\n",
    "    filter(Name == 'P8_2') %>%\n",
    "    select(Label)"
   ]
  },
  {
   "cell_type": "code",
   "execution_count": 53,
   "metadata": {},
   "outputs": [
    {
     "data": {
      "text/html": [
       "<table>\n",
       "<thead><tr><th scope=col>Label</th></tr></thead>\n",
       "<tbody>\n",
       "\t<tr><td>En su entorno cercano, cuán frecuente es que en las relaciones de pareja de jóvenes de su edad: Pelear o discutir por comentarios que la pareja hizo en Facebook o en otra red social</td></tr>\n",
       "</tbody>\n",
       "</table>\n"
      ],
      "text/latex": [
       "\\begin{tabular}{r|l}\n",
       " Label\\\\\n",
       "\\hline\n",
       "\t En su entorno cercano, cuán frecuente es que en las relaciones de pareja de jóvenes de su edad: Pelear o discutir por comentarios que la pareja hizo en Facebook o en otra red social\\\\\n",
       "\\end{tabular}\n"
      ],
      "text/markdown": [
       "\n",
       "Label | \n",
       "|---|\n",
       "| En su entorno cercano, cuán frecuente es que en las relaciones de pareja de jóvenes de su edad: Pelear o discutir por comentarios que la pareja hizo en Facebook o en otra red social | \n",
       "\n",
       "\n"
      ],
      "text/plain": [
       "  Label                                                                                                                                                                                \n",
       "1 En su entorno cercano, cuán frecuente es que en las relaciones de pareja de jóvenes de su edad: Pelear o discutir por comentarios que la pareja hizo en Facebook o en otra red social"
      ]
     },
     "metadata": {},
     "output_type": "display_data"
    }
   ],
   "source": [
    "questions %>%\n",
    "    filter(Name == 'P16_8') %>%\n",
    "    select(Label)"
   ]
  },
  {
   "cell_type": "markdown",
   "metadata": {},
   "source": [
    "# Analysis"
   ]
  },
  {
   "cell_type": "code",
   "execution_count": 44,
   "metadata": {},
   "outputs": [
    {
     "data": {
      "text/html": [
       "<table>\n",
       "<thead><tr><th scope=col>answer</th><th scope=col>count</th></tr></thead>\n",
       "<tbody>\n",
       "\t<tr><td>De acuerdo                    </td><td>121                           </td></tr>\n",
       "\t<tr><td>En desacuerdo                 </td><td>877                           </td></tr>\n",
       "\t<tr><td>Ni de acuerdo ni en desacuerdo</td><td>  9                           </td></tr>\n",
       "\t<tr><td>No sabe                       </td><td>  5                           </td></tr>\n",
       "</tbody>\n",
       "</table>\n"
      ],
      "text/latex": [
       "\\begin{tabular}{r|ll}\n",
       " answer & count\\\\\n",
       "\\hline\n",
       "\t De acuerdo                     & 121                           \\\\\n",
       "\t En desacuerdo                  & 877                           \\\\\n",
       "\t Ni de acuerdo ni en desacuerdo &   9                           \\\\\n",
       "\t No sabe                        &   5                           \\\\\n",
       "\\end{tabular}\n"
      ],
      "text/markdown": [
       "\n",
       "answer | count | \n",
       "|---|---|---|---|\n",
       "| De acuerdo                     | 121                            | \n",
       "| En desacuerdo                  | 877                            | \n",
       "| Ni de acuerdo ni en desacuerdo |   9                            | \n",
       "| No sabe                        |   5                            | \n",
       "\n",
       "\n"
      ],
      "text/plain": [
       "  answer                         count\n",
       "1 De acuerdo                     121  \n",
       "2 En desacuerdo                  877  \n",
       "3 Ni de acuerdo ni en desacuerdo   9  \n",
       "4 No sabe                          5  "
      ]
     },
     "metadata": {},
     "output_type": "display_data"
    }
   ],
   "source": [
    "data %>%\n",
    "    filter(question == 'P8_2') %>%\n",
    "    group_by(answer)%>%\n",
    "    summarize(count = length(answer))"
   ]
  },
  {
   "cell_type": "code",
   "execution_count": 68,
   "metadata": {},
   "outputs": [
    {
     "data": {
      "text/html": [
       "<table>\n",
       "<thead><tr><th scope=col>answer</th><th scope=col>count</th><th scope=col>percentage</th></tr></thead>\n",
       "<tbody>\n",
       "\t<tr><td>Frecuente     </td><td>438           </td><td>15.1          </td></tr>\n",
       "\t<tr><td>Muy frecuente </td><td>251           </td><td> 8.7          </td></tr>\n",
       "\t<tr><td>Nada frecuente</td><td> 87           </td><td> 3.0          </td></tr>\n",
       "\t<tr><td>No responde   </td><td>  4           </td><td> 0.1          </td></tr>\n",
       "\t<tr><td>No sabe       </td><td> 11           </td><td> 0.4          </td></tr>\n",
       "\t<tr><td>Poco frecuente</td><td>221           </td><td> 7.6          </td></tr>\n",
       "</tbody>\n",
       "</table>\n"
      ],
      "text/latex": [
       "\\begin{tabular}{r|lll}\n",
       " answer & count & percentage\\\\\n",
       "\\hline\n",
       "\t Frecuente      & 438            & 15.1          \\\\\n",
       "\t Muy frecuente  & 251            &  8.7          \\\\\n",
       "\t Nada frecuente &  87            &  3.0          \\\\\n",
       "\t No responde    &   4            &  0.1          \\\\\n",
       "\t No sabe        &  11            &  0.4          \\\\\n",
       "\t Poco frecuente & 221            &  7.6          \\\\\n",
       "\\end{tabular}\n"
      ],
      "text/markdown": [
       "\n",
       "answer | count | percentage | \n",
       "|---|---|---|---|---|---|\n",
       "| Frecuente      | 438            | 15.1           | \n",
       "| Muy frecuente  | 251            |  8.7           | \n",
       "| Nada frecuente |  87            |  3.0           | \n",
       "| No responde    |   4            |  0.1           | \n",
       "| No sabe        |  11            |  0.4           | \n",
       "| Poco frecuente | 221            |  7.6           | \n",
       "\n",
       "\n"
      ],
      "text/plain": [
       "  answer         count percentage\n",
       "1 Frecuente      438   15.1      \n",
       "2 Muy frecuente  251    8.7      \n",
       "3 Nada frecuente  87    3.0      \n",
       "4 No responde      4    0.1      \n",
       "5 No sabe         11    0.4      \n",
       "6 Poco frecuente 221    7.6      "
      ]
     },
     "metadata": {},
     "output_type": "display_data"
    }
   ],
   "source": [
    "question = \"P16_8\"\n",
    "\n",
    "length <- data %>%\n",
    "            filter(question == !!question) %>%\n",
    "            length\n",
    "\n",
    "data %>%\n",
    "    filter(question == !!question) %>%\n",
    "    group_by(answer)%>%\n",
    "    summarize(count = length(answer),\n",
    "              percentage = round(count/length, 1))"
   ]
  },
  {
   "cell_type": "markdown",
   "metadata": {},
   "source": [
    "# FFTrees"
   ]
  },
  {
   "cell_type": "code",
   "execution_count": 113,
   "metadata": {},
   "outputs": [],
   "source": [
    "fft_data <- data %>%\n",
    "                add_column(accepts_violence = (data$answer == 'De acuerdo')*1) %>%\n",
    "                filter(question == 'P8_2') %>%\n",
    "                select(edad, sexo, accepts_violence)"
   ]
  },
  {
   "cell_type": "code",
   "execution_count": 115,
   "metadata": {},
   "outputs": [
    {
     "name": "stderr",
     "output_type": "stream",
     "text": [
      "Growing FFTs with ifan\n",
      "Fitting non-FFTrees algorithms for comparison (you can turn this off with comp = FALSE) ...\n"
     ]
    }
   ],
   "source": [
    "fft <- FFTrees(  formula = accepts_violence ~.,\n",
    "                 data = fft_data,\n",
    "                 #data.test = heart.test,\n",
    "                 #main = \"Heart Disease\",\n",
    "                 #decision.labels = c(\"Low-Risk\", \"High-Risk\")\n",
    "              )"
   ]
  },
  {
   "cell_type": "code",
   "execution_count": 119,
   "metadata": {},
   "outputs": [
    {
     "data": {
      "image/png": "[encoded data removed]",
      "text/plain": [
       "plot without title"
      ]
     },
     "metadata": {},
     "output_type": "display_data"
    }
   ],
   "source": [
    "plot(fft, tree=1)"
   ]
  },
  {
   "cell_type": "code",
   "execution_count": null,
   "metadata": {
    "collapsed": true
   },
   "outputs": [],
   "source": []
  }
 ],
 "metadata": {
  "kernelspec": {
   "display_name": "R",
   "language": "R",
   "name": "ir"
  },
  "language_info": {
   "codemirror_mode": "r",
   "file_extension": ".r",
   "mimetype": "text/x-r-source",
   "name": "R",
   "pygments_lexer": "r",
   "version": "3.3.1"
  }
 },
 "nbformat": 4,
 "nbformat_minor": 2
}
