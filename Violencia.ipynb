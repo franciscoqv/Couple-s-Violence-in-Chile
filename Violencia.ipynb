{
 "cells": [
  {
   "cell_type": "markdown",
   "metadata": {},
   "source": [
    "# Libraries"
   ]
  },
  {
   "cell_type": "code",
   "execution_count": 370,
   "metadata": {},
   "outputs": [],
   "source": [
    "library(FFTrees)\n",
    "\n",
    "library(plyr)\n",
    "library(tidyverse)\n",
    "library(DT) # dependency\n",
    "library(ggthemes) # dependency"
   ]
  },
  {
   "cell_type": "markdown",
   "metadata": {
    "collapsed": true
   },
   "source": [
    "# Importing data"
   ]
  },
  {
   "cell_type": "code",
   "execution_count": 371,
   "metadata": {},
   "outputs": [
    {
     "name": "stderr",
     "output_type": "stream",
     "text": [
      "Parsed with column specification:\n",
      "cols(\n",
      "  .default = col_character(),\n",
      "  id = col_integer(),\n",
      "  edad = col_integer(),\n",
      "  REGION = col_integer(),\n",
      "  POND = col_double()\n",
      ")\n",
      "See spec(...) for full column specifications.\n",
      "Parsed with column specification:\n",
      "cols(\n",
      "  Name = col_character(),\n",
      "  Type = col_character(),\n",
      "  Width = col_integer(),\n",
      "  Decimals = col_integer(),\n",
      "  Label = col_character(),\n",
      "  Measure = col_character(),\n",
      "  Column1 = col_integer()\n",
      ")\n"
     ]
    }
   ],
   "source": [
    "responses <- read_csv(\"data/responses.csv\")\n",
    "questions <- read_csv(\"data/questions.csv\")"
   ]
  },
  {
   "cell_type": "markdown",
   "metadata": {},
   "source": [
    "Tidyverse data"
   ]
  },
  {
   "cell_type": "code",
   "execution_count": 372,
   "metadata": {
    "collapsed": true
   },
   "outputs": [],
   "source": [
    "data <- responses %>% \n",
    "    gather(question, answer, starts_with(\"P\"))"
   ]
  },
  {
   "cell_type": "markdown",
   "metadata": {},
   "source": [
    "REGION should be a string"
   ]
  },
  {
   "cell_type": "code",
   "execution_count": 373,
   "metadata": {},
   "outputs": [],
   "source": [
    "data$REGION <- as.character(data$REGION)"
   ]
  },
  {
   "cell_type": "markdown",
   "metadata": {},
   "source": [
    "# Columns of interest"
   ]
  },
  {
   "cell_type": "markdown",
   "metadata": {},
   "source": [
    "### Demographics\n",
    "Each row has demographic data\n",
    "- `sexo`\n",
    "- `genero`\n",
    "- `comuna`\n",
    "- `REGION`"
   ]
  },
  {
   "cell_type": "markdown",
   "metadata": {},
   "source": [
    "### Questions' column\n",
    "- `P1`: Problemas que afectan a los jóvenes\n",
    "- `P2`: Qué acciones consideras violentas\n",
    "- `P3`: Causas de violencia en el pololeo\n",
    "- `P4`: Para ti, qué tan aceptable...\n",
    "- `P5`: Medios de comunicación\n",
    "- `P6`: Películas\n",
    "- `P7`: Programas de televisión\n",
    "- `P8`: Likert scale\n",
    "- `P9`: Para cuáles corresponde denunciar"
   ]
  },
  {
   "cell_type": "code",
   "execution_count": 374,
   "metadata": {},
   "outputs": [
    {
     "data": {
      "text/html": [
       "<table>\n",
       "<thead><tr><th scope=col>Label</th></tr></thead>\n",
       "<tbody>\n",
       "\t<tr><td>Qué tan de acuerdo o en desacuerdo estas con: En algunas ocasiones, las mujeres tienen actitudes que justifican que reciba actos de violencia por parte de su pareja</td></tr>\n",
       "</tbody>\n",
       "</table>\n"
      ],
      "text/latex": [
       "\\begin{tabular}{r|l}\n",
       " Label\\\\\n",
       "\\hline\n",
       "\t Qué tan de acuerdo o en desacuerdo estas con: En algunas ocasiones, las mujeres tienen actitudes que justifican que reciba actos de violencia por parte de su pareja\\\\\n",
       "\\end{tabular}\n"
      ],
      "text/markdown": [
       "\n",
       "Label | \n",
       "|---|\n",
       "| Qué tan de acuerdo o en desacuerdo estas con: En algunas ocasiones, las mujeres tienen actitudes que justifican que reciba actos de violencia por parte de su pareja | \n",
       "\n",
       "\n"
      ],
      "text/plain": [
       "  Label                                                                                                                                                               \n",
       "1 Qué tan de acuerdo o en desacuerdo estas con: En algunas ocasiones, las mujeres tienen actitudes que justifican que reciba actos de violencia por parte de su pareja"
      ]
     },
     "metadata": {},
     "output_type": "display_data"
    }
   ],
   "source": [
    "questions %>%\n",
    "    filter(Name == 'P8_2') %>%\n",
    "    select(Label)"
   ]
  },
  {
   "cell_type": "code",
   "execution_count": 375,
   "metadata": {},
   "outputs": [
    {
     "data": {
      "text/html": [
       "<table>\n",
       "<thead><tr><th scope=col>Label</th></tr></thead>\n",
       "<tbody>\n",
       "\t<tr><td>En su entorno cercano, cuán frecuente es que en las relaciones de pareja de jóvenes de su edad: Pelear o discutir por comentarios que la pareja hizo en Facebook o en otra red social</td></tr>\n",
       "</tbody>\n",
       "</table>\n"
      ],
      "text/latex": [
       "\\begin{tabular}{r|l}\n",
       " Label\\\\\n",
       "\\hline\n",
       "\t En su entorno cercano, cuán frecuente es que en las relaciones de pareja de jóvenes de su edad: Pelear o discutir por comentarios que la pareja hizo en Facebook o en otra red social\\\\\n",
       "\\end{tabular}\n"
      ],
      "text/markdown": [
       "\n",
       "Label | \n",
       "|---|\n",
       "| En su entorno cercano, cuán frecuente es que en las relaciones de pareja de jóvenes de su edad: Pelear o discutir por comentarios que la pareja hizo en Facebook o en otra red social | \n",
       "\n",
       "\n"
      ],
      "text/plain": [
       "  Label                                                                                                                                                                                \n",
       "1 En su entorno cercano, cuán frecuente es que en las relaciones de pareja de jóvenes de su edad: Pelear o discutir por comentarios que la pareja hizo en Facebook o en otra red social"
      ]
     },
     "metadata": {},
     "output_type": "display_data"
    }
   ],
   "source": [
    "questions %>%\n",
    "    filter(Name == 'P16_8') %>%\n",
    "    select(Label)"
   ]
  },
  {
   "cell_type": "markdown",
   "metadata": {},
   "source": [
    "# Analysis"
   ]
  },
  {
   "cell_type": "code",
   "execution_count": 376,
   "metadata": {},
   "outputs": [],
   "source": [
    "count_and_percentage <- function(question) {\n",
    "    total <- data %>%\n",
    "                filter(question == !!question) %>%\n",
    "                nrow\n",
    "\n",
    "    data %>%\n",
    "        filter(question == !!question) %>%\n",
    "        group_by(answer)%>%\n",
    "        summarize(count = length(answer),\n",
    "                  percentage = round(count/total*100, 1))\n",
    "}"
   ]
  },
  {
   "cell_type": "code",
   "execution_count": 377,
   "metadata": {},
   "outputs": [
    {
     "data": {
      "text/html": [
       "<table>\n",
       "<thead><tr><th scope=col>answer</th><th scope=col>count</th><th scope=col>percentage</th></tr></thead>\n",
       "<tbody>\n",
       "\t<tr><td>No aplica      </td><td> 24            </td><td> 2.4           </td></tr>\n",
       "\t<tr><td>No le ha pasado</td><td>706            </td><td>69.8           </td></tr>\n",
       "\t<tr><td>No responde    </td><td>  6            </td><td> 0.6           </td></tr>\n",
       "\t<tr><td>Sí le ha pasado</td><td>276            </td><td>27.3           </td></tr>\n",
       "</tbody>\n",
       "</table>\n"
      ],
      "text/latex": [
       "\\begin{tabular}{r|lll}\n",
       " answer & count & percentage\\\\\n",
       "\\hline\n",
       "\t No aplica       &  24             &  2.4           \\\\\n",
       "\t No le ha pasado & 706             & 69.8           \\\\\n",
       "\t No responde     &   6             &  0.6           \\\\\n",
       "\t Sí le ha pasado & 276             & 27.3           \\\\\n",
       "\\end{tabular}\n"
      ],
      "text/markdown": [
       "\n",
       "answer | count | percentage | \n",
       "|---|---|---|---|\n",
       "| No aplica       |  24             |  2.4            | \n",
       "| No le ha pasado | 706             | 69.8            | \n",
       "| No responde     |   6             |  0.6            | \n",
       "| Sí le ha pasado | 276             | 27.3            | \n",
       "\n",
       "\n"
      ],
      "text/plain": [
       "  answer          count percentage\n",
       "1 No aplica        24    2.4      \n",
       "2 No le ha pasado 706   69.8      \n",
       "3 No responde       6    0.6      \n",
       "4 Sí le ha pasado 276   27.3      "
      ]
     },
     "metadata": {},
     "output_type": "display_data"
    }
   ],
   "source": [
    "count_and_percentage(\"P17_9\")"
   ]
  },
  {
   "cell_type": "code",
   "execution_count": 462,
   "metadata": {
    "collapsed": true
   },
   "outputs": [],
   "source": [
    "count_and_percentage_2 <- function(question) {\n",
    "    \n",
    "    temp <- data\n",
    "    \n",
    "    temp[temp$answer=='Sí le ha pasado', 'answer'] <- ' Sí'\n",
    "    temp[temp$answer=='No le ha pasado', 'answer'] <- ' No'\n",
    "    temp[temp$answer!=' Sí' & temp$answer!=' No', 'answer'] <- 'NA/NS/NR'\n",
    "    \n",
    "    df1 <- temp %>%\n",
    "            filter(question == !!question) %>%\n",
    "            group_by(edad, answer)%>%\n",
    "            summarize(count = length(answer))\n",
    "    \n",
    "    df2 <- df1 %>%\n",
    "            group_by(edad) %>%\n",
    "            summarize(edad_count = sum(count))\n",
    "    \n",
    "    df3 <- merge(x = df1, y = df2, by = \"edad\", all.x = TRUE)\n",
    "    \n",
    "    df3 %>%\n",
    "        add_column(percentage = round(df3$count / df3$edad_count * 100 , 2))\n",
    "}"
   ]
  },
  {
   "cell_type": "code",
   "execution_count": 468,
   "metadata": {},
   "outputs": [],
   "source": [
    "dat <- count_and_percentage_2(\"P17_3\")"
   ]
  },
  {
   "cell_type": "code",
   "execution_count": 470,
   "metadata": {},
   "outputs": [
    {
     "data": {},
     "metadata": {},
     "output_type": "display_data"
    },
    {
     "data": {
      "text/html": [
       "<strong>png:</strong> 2"
      ],
      "text/latex": [
       "\\textbf{png:} 2"
      ],
      "text/markdown": [
       "**png:** 2"
      ],
      "text/plain": [
       "png \n",
       "  2 "
      ]
     },
     "metadata": {},
     "output_type": "display_data"
    }
   ],
   "source": [
    "p <- ggplot(data=dat, aes(x=edad, y=percentage, group=answer, colour=answer)) +\n",
    "        geom_line(size=1) +\n",
    "        geom_point(size=3, fill=\"white\") +\n",
    "        expand_limits(y=0) +  \n",
    "        xlab(\"Edad\") + ylab(\"Porcentaje\") +\n",
    "        ggtitle(\"¿Te has alejado de amigos, familiares y compañeros de estudio\\n o trabajo para evitar que tu pareja se moleste?\") +\n",
    "        #ggthemes::scale_color_solarized() +\n",
    "        theme_bw() +\n",
    "        theme(legend.position=c(.9, .6))\n",
    "\n",
    "svg(\"hey.svg\")\n",
    "p\n",
    "dev.off()"
   ]
  },
  {
   "cell_type": "code",
   "execution_count": null,
   "metadata": {
    "collapsed": true
   },
   "outputs": [],
   "source": []
  },
  {
   "cell_type": "code",
   "execution_count": null,
   "metadata": {
    "collapsed": true
   },
   "outputs": [],
   "source": []
  },
  {
   "cell_type": "markdown",
   "metadata": {},
   "source": [
    "### Count of violence acts"
   ]
  },
  {
   "cell_type": "code",
   "execution_count": 222,
   "metadata": {},
   "outputs": [],
   "source": [
    "v <- data %>%\n",
    "        filter(question == 'P17_1' || question == 'P17_2' || question == 'P17_3' || question == 'P17_4' || question == 'P17_5' || question == 'P17_6' || question == 'P17_7' || question == 'P17_8' || question == 'P17_9') %>%\n",
    "        filter(answer == 'Sí le ha pasado') %>%\n",
    "        group_by(id, sexo, edad) %>%\n",
    "        summarize(count = length(answer))"
   ]
  },
  {
   "cell_type": "code",
   "execution_count": 226,
   "metadata": {},
   "outputs": [
    {
     "data": {
      "text/html": [
       "<table>\n",
       "<thead><tr><th scope=col>id</th><th scope=col>sexo</th><th scope=col>edad</th><th scope=col>count</th></tr></thead>\n",
       "<tbody>\n",
       "\t<tr><td> 8    </td><td>Mujer </td><td>18    </td><td>1     </td></tr>\n",
       "\t<tr><td>12    </td><td>Mujer </td><td>20    </td><td>1     </td></tr>\n",
       "\t<tr><td>14    </td><td>Hombre</td><td>21    </td><td>1     </td></tr>\n",
       "\t<tr><td>25    </td><td>Hombre</td><td>27    </td><td>1     </td></tr>\n",
       "\t<tr><td>28    </td><td>Hombre</td><td>18    </td><td>1     </td></tr>\n",
       "\t<tr><td>31    </td><td>Mujer </td><td>26    </td><td>1     </td></tr>\n",
       "\t<tr><td>32    </td><td>Mujer </td><td>21    </td><td>1     </td></tr>\n",
       "\t<tr><td>34    </td><td>Mujer </td><td>19    </td><td>1     </td></tr>\n",
       "\t<tr><td>35    </td><td>Hombre</td><td>18    </td><td>1     </td></tr>\n",
       "\t<tr><td>38    </td><td>Hombre</td><td>23    </td><td>1     </td></tr>\n",
       "\t<tr><td>39    </td><td>Mujer </td><td>16    </td><td>1     </td></tr>\n",
       "\t<tr><td>44    </td><td>Hombre</td><td>22    </td><td>1     </td></tr>\n",
       "\t<tr><td>46    </td><td>Hombre</td><td>26    </td><td>1     </td></tr>\n",
       "\t<tr><td>47    </td><td>Mujer </td><td>29    </td><td>1     </td></tr>\n",
       "\t<tr><td>49    </td><td>Mujer </td><td>27    </td><td>1     </td></tr>\n",
       "\t<tr><td>52    </td><td>Hombre</td><td>24    </td><td>1     </td></tr>\n",
       "\t<tr><td>53    </td><td>Hombre</td><td>23    </td><td>1     </td></tr>\n",
       "\t<tr><td>56    </td><td>Mujer </td><td>21    </td><td>1     </td></tr>\n",
       "\t<tr><td>60    </td><td>Hombre</td><td>18    </td><td>1     </td></tr>\n",
       "\t<tr><td>61    </td><td>Mujer </td><td>19    </td><td>1     </td></tr>\n",
       "\t<tr><td>62    </td><td>Mujer </td><td>16    </td><td>1     </td></tr>\n",
       "\t<tr><td>64    </td><td>Mujer </td><td>21    </td><td>1     </td></tr>\n",
       "\t<tr><td>65    </td><td>Mujer </td><td>27    </td><td>1     </td></tr>\n",
       "\t<tr><td>66    </td><td>Mujer </td><td>27    </td><td>1     </td></tr>\n",
       "\t<tr><td>77    </td><td>Hombre</td><td>25    </td><td>1     </td></tr>\n",
       "\t<tr><td>79    </td><td>Hombre</td><td>27    </td><td>1     </td></tr>\n",
       "\t<tr><td>81    </td><td>Mujer </td><td>17    </td><td>1     </td></tr>\n",
       "\t<tr><td>83    </td><td>Hombre</td><td>25    </td><td>1     </td></tr>\n",
       "\t<tr><td>92    </td><td>Mujer </td><td>25    </td><td>1     </td></tr>\n",
       "\t<tr><td>94    </td><td>Mujer </td><td>23    </td><td>1     </td></tr>\n",
       "\t<tr><td>...</td><td>...</td><td>...</td><td>...</td></tr>\n",
       "\t<tr><td> 910  </td><td>Mujer </td><td>20    </td><td>1     </td></tr>\n",
       "\t<tr><td> 911  </td><td>Mujer </td><td>29    </td><td>1     </td></tr>\n",
       "\t<tr><td> 912  </td><td>Mujer </td><td>19    </td><td>1     </td></tr>\n",
       "\t<tr><td> 913  </td><td>Mujer </td><td>17    </td><td>1     </td></tr>\n",
       "\t<tr><td> 916  </td><td>Mujer </td><td>21    </td><td>1     </td></tr>\n",
       "\t<tr><td> 924  </td><td>Hombre</td><td>20    </td><td>1     </td></tr>\n",
       "\t<tr><td> 926  </td><td>Mujer </td><td>29    </td><td>1     </td></tr>\n",
       "\t<tr><td> 927  </td><td>Mujer </td><td>17    </td><td>1     </td></tr>\n",
       "\t<tr><td> 928  </td><td>Mujer </td><td>23    </td><td>1     </td></tr>\n",
       "\t<tr><td> 935  </td><td>Mujer </td><td>19    </td><td>1     </td></tr>\n",
       "\t<tr><td> 941  </td><td>Mujer </td><td>23    </td><td>1     </td></tr>\n",
       "\t<tr><td> 949  </td><td>Mujer </td><td>25    </td><td>1     </td></tr>\n",
       "\t<tr><td> 954  </td><td>Hombre</td><td>25    </td><td>1     </td></tr>\n",
       "\t<tr><td> 961  </td><td>Hombre</td><td>16    </td><td>1     </td></tr>\n",
       "\t<tr><td> 966  </td><td>Mujer </td><td>23    </td><td>1     </td></tr>\n",
       "\t<tr><td> 967  </td><td>Hombre</td><td>21    </td><td>1     </td></tr>\n",
       "\t<tr><td> 968  </td><td>Mujer </td><td>24    </td><td>1     </td></tr>\n",
       "\t<tr><td> 969  </td><td>Hombre</td><td>17    </td><td>1     </td></tr>\n",
       "\t<tr><td> 972  </td><td>Mujer </td><td>21    </td><td>1     </td></tr>\n",
       "\t<tr><td> 982  </td><td>Hombre</td><td>19    </td><td>1     </td></tr>\n",
       "\t<tr><td> 983  </td><td>Hombre</td><td>17    </td><td>1     </td></tr>\n",
       "\t<tr><td> 984  </td><td>Mujer </td><td>23    </td><td>1     </td></tr>\n",
       "\t<tr><td> 985  </td><td>Mujer </td><td>16    </td><td>1     </td></tr>\n",
       "\t<tr><td> 987  </td><td>Mujer </td><td>17    </td><td>1     </td></tr>\n",
       "\t<tr><td> 989  </td><td>Mujer </td><td>28    </td><td>1     </td></tr>\n",
       "\t<tr><td> 999  </td><td>Hombre</td><td>25    </td><td>1     </td></tr>\n",
       "\t<tr><td>1004  </td><td>Hombre</td><td>28    </td><td>1     </td></tr>\n",
       "\t<tr><td>1008  </td><td>Mujer </td><td>22    </td><td>1     </td></tr>\n",
       "\t<tr><td>1010  </td><td>Mujer </td><td>21    </td><td>1     </td></tr>\n",
       "\t<tr><td>1012  </td><td>Mujer </td><td>15    </td><td>1     </td></tr>\n",
       "</tbody>\n",
       "</table>\n"
      ],
      "text/latex": [
       "\\begin{tabular}{r|llll}\n",
       " id & sexo & edad & count\\\\\n",
       "\\hline\n",
       "\t  8     & Mujer  & 18     & 1     \\\\\n",
       "\t 12     & Mujer  & 20     & 1     \\\\\n",
       "\t 14     & Hombre & 21     & 1     \\\\\n",
       "\t 25     & Hombre & 27     & 1     \\\\\n",
       "\t 28     & Hombre & 18     & 1     \\\\\n",
       "\t 31     & Mujer  & 26     & 1     \\\\\n",
       "\t 32     & Mujer  & 21     & 1     \\\\\n",
       "\t 34     & Mujer  & 19     & 1     \\\\\n",
       "\t 35     & Hombre & 18     & 1     \\\\\n",
       "\t 38     & Hombre & 23     & 1     \\\\\n",
       "\t 39     & Mujer  & 16     & 1     \\\\\n",
       "\t 44     & Hombre & 22     & 1     \\\\\n",
       "\t 46     & Hombre & 26     & 1     \\\\\n",
       "\t 47     & Mujer  & 29     & 1     \\\\\n",
       "\t 49     & Mujer  & 27     & 1     \\\\\n",
       "\t 52     & Hombre & 24     & 1     \\\\\n",
       "\t 53     & Hombre & 23     & 1     \\\\\n",
       "\t 56     & Mujer  & 21     & 1     \\\\\n",
       "\t 60     & Hombre & 18     & 1     \\\\\n",
       "\t 61     & Mujer  & 19     & 1     \\\\\n",
       "\t 62     & Mujer  & 16     & 1     \\\\\n",
       "\t 64     & Mujer  & 21     & 1     \\\\\n",
       "\t 65     & Mujer  & 27     & 1     \\\\\n",
       "\t 66     & Mujer  & 27     & 1     \\\\\n",
       "\t 77     & Hombre & 25     & 1     \\\\\n",
       "\t 79     & Hombre & 27     & 1     \\\\\n",
       "\t 81     & Mujer  & 17     & 1     \\\\\n",
       "\t 83     & Hombre & 25     & 1     \\\\\n",
       "\t 92     & Mujer  & 25     & 1     \\\\\n",
       "\t 94     & Mujer  & 23     & 1     \\\\\n",
       "\t ... & ... & ... & ...\\\\\n",
       "\t  910   & Mujer  & 20     & 1     \\\\\n",
       "\t  911   & Mujer  & 29     & 1     \\\\\n",
       "\t  912   & Mujer  & 19     & 1     \\\\\n",
       "\t  913   & Mujer  & 17     & 1     \\\\\n",
       "\t  916   & Mujer  & 21     & 1     \\\\\n",
       "\t  924   & Hombre & 20     & 1     \\\\\n",
       "\t  926   & Mujer  & 29     & 1     \\\\\n",
       "\t  927   & Mujer  & 17     & 1     \\\\\n",
       "\t  928   & Mujer  & 23     & 1     \\\\\n",
       "\t  935   & Mujer  & 19     & 1     \\\\\n",
       "\t  941   & Mujer  & 23     & 1     \\\\\n",
       "\t  949   & Mujer  & 25     & 1     \\\\\n",
       "\t  954   & Hombre & 25     & 1     \\\\\n",
       "\t  961   & Hombre & 16     & 1     \\\\\n",
       "\t  966   & Mujer  & 23     & 1     \\\\\n",
       "\t  967   & Hombre & 21     & 1     \\\\\n",
       "\t  968   & Mujer  & 24     & 1     \\\\\n",
       "\t  969   & Hombre & 17     & 1     \\\\\n",
       "\t  972   & Mujer  & 21     & 1     \\\\\n",
       "\t  982   & Hombre & 19     & 1     \\\\\n",
       "\t  983   & Hombre & 17     & 1     \\\\\n",
       "\t  984   & Mujer  & 23     & 1     \\\\\n",
       "\t  985   & Mujer  & 16     & 1     \\\\\n",
       "\t  987   & Mujer  & 17     & 1     \\\\\n",
       "\t  989   & Mujer  & 28     & 1     \\\\\n",
       "\t  999   & Hombre & 25     & 1     \\\\\n",
       "\t 1004   & Hombre & 28     & 1     \\\\\n",
       "\t 1008   & Mujer  & 22     & 1     \\\\\n",
       "\t 1010   & Mujer  & 21     & 1     \\\\\n",
       "\t 1012   & Mujer  & 15     & 1     \\\\\n",
       "\\end{tabular}\n"
      ],
      "text/markdown": [
       "\n",
       "id | sexo | edad | count | \n",
       "|---|---|---|---|---|---|---|---|---|---|---|---|---|---|---|---|---|---|---|---|---|---|---|---|---|---|---|---|---|---|---|---|---|---|---|---|---|---|---|---|---|---|---|---|---|---|---|---|---|---|---|---|---|---|---|---|---|---|---|---|---|\n",
       "|  8     | Mujer  | 18     | 1      | \n",
       "| 12     | Mujer  | 20     | 1      | \n",
       "| 14     | Hombre | 21     | 1      | \n",
       "| 25     | Hombre | 27     | 1      | \n",
       "| 28     | Hombre | 18     | 1      | \n",
       "| 31     | Mujer  | 26     | 1      | \n",
       "| 32     | Mujer  | 21     | 1      | \n",
       "| 34     | Mujer  | 19     | 1      | \n",
       "| 35     | Hombre | 18     | 1      | \n",
       "| 38     | Hombre | 23     | 1      | \n",
       "| 39     | Mujer  | 16     | 1      | \n",
       "| 44     | Hombre | 22     | 1      | \n",
       "| 46     | Hombre | 26     | 1      | \n",
       "| 47     | Mujer  | 29     | 1      | \n",
       "| 49     | Mujer  | 27     | 1      | \n",
       "| 52     | Hombre | 24     | 1      | \n",
       "| 53     | Hombre | 23     | 1      | \n",
       "| 56     | Mujer  | 21     | 1      | \n",
       "| 60     | Hombre | 18     | 1      | \n",
       "| 61     | Mujer  | 19     | 1      | \n",
       "| 62     | Mujer  | 16     | 1      | \n",
       "| 64     | Mujer  | 21     | 1      | \n",
       "| 65     | Mujer  | 27     | 1      | \n",
       "| 66     | Mujer  | 27     | 1      | \n",
       "| 77     | Hombre | 25     | 1      | \n",
       "| 79     | Hombre | 27     | 1      | \n",
       "| 81     | Mujer  | 17     | 1      | \n",
       "| 83     | Hombre | 25     | 1      | \n",
       "| 92     | Mujer  | 25     | 1      | \n",
       "| 94     | Mujer  | 23     | 1      | \n",
       "| ... | ... | ... | ... | \n",
       "|  910   | Mujer  | 20     | 1      | \n",
       "|  911   | Mujer  | 29     | 1      | \n",
       "|  912   | Mujer  | 19     | 1      | \n",
       "|  913   | Mujer  | 17     | 1      | \n",
       "|  916   | Mujer  | 21     | 1      | \n",
       "|  924   | Hombre | 20     | 1      | \n",
       "|  926   | Mujer  | 29     | 1      | \n",
       "|  927   | Mujer  | 17     | 1      | \n",
       "|  928   | Mujer  | 23     | 1      | \n",
       "|  935   | Mujer  | 19     | 1      | \n",
       "|  941   | Mujer  | 23     | 1      | \n",
       "|  949   | Mujer  | 25     | 1      | \n",
       "|  954   | Hombre | 25     | 1      | \n",
       "|  961   | Hombre | 16     | 1      | \n",
       "|  966   | Mujer  | 23     | 1      | \n",
       "|  967   | Hombre | 21     | 1      | \n",
       "|  968   | Mujer  | 24     | 1      | \n",
       "|  969   | Hombre | 17     | 1      | \n",
       "|  972   | Mujer  | 21     | 1      | \n",
       "|  982   | Hombre | 19     | 1      | \n",
       "|  983   | Hombre | 17     | 1      | \n",
       "|  984   | Mujer  | 23     | 1      | \n",
       "|  985   | Mujer  | 16     | 1      | \n",
       "|  987   | Mujer  | 17     | 1      | \n",
       "|  989   | Mujer  | 28     | 1      | \n",
       "|  999   | Hombre | 25     | 1      | \n",
       "| 1004   | Hombre | 28     | 1      | \n",
       "| 1008   | Mujer  | 22     | 1      | \n",
       "| 1010   | Mujer  | 21     | 1      | \n",
       "| 1012   | Mujer  | 15     | 1      | \n",
       "\n",
       "\n"
      ],
      "text/plain": [
       "    id   sexo   edad count\n",
       "1    8   Mujer  18   1    \n",
       "2   12   Mujer  20   1    \n",
       "3   14   Hombre 21   1    \n",
       "4   25   Hombre 27   1    \n",
       "5   28   Hombre 18   1    \n",
       "6   31   Mujer  26   1    \n",
       "7   32   Mujer  21   1    \n",
       "8   34   Mujer  19   1    \n",
       "9   35   Hombre 18   1    \n",
       "10  38   Hombre 23   1    \n",
       "11  39   Mujer  16   1    \n",
       "12  44   Hombre 22   1    \n",
       "13  46   Hombre 26   1    \n",
       "14  47   Mujer  29   1    \n",
       "15  49   Mujer  27   1    \n",
       "16  52   Hombre 24   1    \n",
       "17  53   Hombre 23   1    \n",
       "18  56   Mujer  21   1    \n",
       "19  60   Hombre 18   1    \n",
       "20  61   Mujer  19   1    \n",
       "21  62   Mujer  16   1    \n",
       "22  64   Mujer  21   1    \n",
       "23  65   Mujer  27   1    \n",
       "24  66   Mujer  27   1    \n",
       "25  77   Hombre 25   1    \n",
       "26  79   Hombre 27   1    \n",
       "27  81   Mujer  17   1    \n",
       "28  83   Hombre 25   1    \n",
       "29  92   Mujer  25   1    \n",
       "30  94   Mujer  23   1    \n",
       "... ...  ...    ...  ...  \n",
       "247  910 Mujer  20   1    \n",
       "248  911 Mujer  29   1    \n",
       "249  912 Mujer  19   1    \n",
       "250  913 Mujer  17   1    \n",
       "251  916 Mujer  21   1    \n",
       "252  924 Hombre 20   1    \n",
       "253  926 Mujer  29   1    \n",
       "254  927 Mujer  17   1    \n",
       "255  928 Mujer  23   1    \n",
       "256  935 Mujer  19   1    \n",
       "257  941 Mujer  23   1    \n",
       "258  949 Mujer  25   1    \n",
       "259  954 Hombre 25   1    \n",
       "260  961 Hombre 16   1    \n",
       "261  966 Mujer  23   1    \n",
       "262  967 Hombre 21   1    \n",
       "263  968 Mujer  24   1    \n",
       "264  969 Hombre 17   1    \n",
       "265  972 Mujer  21   1    \n",
       "266  982 Hombre 19   1    \n",
       "267  983 Hombre 17   1    \n",
       "268  984 Mujer  23   1    \n",
       "269  985 Mujer  16   1    \n",
       "270  987 Mujer  17   1    \n",
       "271  989 Mujer  28   1    \n",
       "272  999 Hombre 25   1    \n",
       "273 1004 Hombre 28   1    \n",
       "274 1008 Mujer  22   1    \n",
       "275 1010 Mujer  21   1    \n",
       "276 1012 Mujer  15   1    "
      ]
     },
     "metadata": {},
     "output_type": "display_data"
    }
   ],
   "source": [
    "v <- data %>%\n",
    "        filter(question == 'P17_9') %>%\n",
    "        filter(answer == 'Sí le ha pasado') %>%\n",
    "        group_by(id, sexo, edad) %>%\n",
    "        summarize(count = length(answer))\n",
    "\n",
    "v"
   ]
  },
  {
   "cell_type": "markdown",
   "metadata": {},
   "source": [
    "# FFTrees"
   ]
  },
  {
   "cell_type": "code",
   "execution_count": 176,
   "metadata": {},
   "outputs": [
    {
     "data": {
      "text/html": [
       "<table>\n",
       "<thead><tr><th scope=col>edad</th><th scope=col>sexo</th><th scope=col>REGION</th><th scope=col>accepts_violence</th></tr></thead>\n",
       "<tbody>\n",
       "\t<tr><td>22    </td><td>Hombre</td><td>13    </td><td>0     </td></tr>\n",
       "\t<tr><td>19    </td><td>Mujer </td><td>8     </td><td>0     </td></tr>\n",
       "\t<tr><td>15    </td><td>Mujer </td><td>13    </td><td>0     </td></tr>\n",
       "\t<tr><td>23    </td><td>Hombre</td><td>9     </td><td>0     </td></tr>\n",
       "\t<tr><td>29    </td><td>Mujer </td><td>4     </td><td>0     </td></tr>\n",
       "\t<tr><td>23    </td><td>Hombre</td><td>13    </td><td>0     </td></tr>\n",
       "</tbody>\n",
       "</table>\n"
      ],
      "text/latex": [
       "\\begin{tabular}{r|llll}\n",
       " edad & sexo & REGION & accepts\\_violence\\\\\n",
       "\\hline\n",
       "\t 22     & Hombre & 13     & 0     \\\\\n",
       "\t 19     & Mujer  & 8      & 0     \\\\\n",
       "\t 15     & Mujer  & 13     & 0     \\\\\n",
       "\t 23     & Hombre & 9      & 0     \\\\\n",
       "\t 29     & Mujer  & 4      & 0     \\\\\n",
       "\t 23     & Hombre & 13     & 0     \\\\\n",
       "\\end{tabular}\n"
      ],
      "text/markdown": [
       "\n",
       "edad | sexo | REGION | accepts_violence | \n",
       "|---|---|---|---|---|---|\n",
       "| 22     | Hombre | 13     | 0      | \n",
       "| 19     | Mujer  | 8      | 0      | \n",
       "| 15     | Mujer  | 13     | 0      | \n",
       "| 23     | Hombre | 9      | 0      | \n",
       "| 29     | Mujer  | 4      | 0      | \n",
       "| 23     | Hombre | 13     | 0      | \n",
       "\n",
       "\n"
      ],
      "text/plain": [
       "  edad sexo   REGION accepts_violence\n",
       "1 22   Hombre 13     0               \n",
       "2 19   Mujer  8      0               \n",
       "3 15   Mujer  13     0               \n",
       "4 23   Hombre 9      0               \n",
       "5 29   Mujer  4      0               \n",
       "6 23   Hombre 13     0               "
      ]
     },
     "metadata": {},
     "output_type": "display_data"
    }
   ],
   "source": [
    "fft_data <- data %>%\n",
    "                add_column(accepts_violence = (data$answer == 'De acuerdo')*1) %>%\n",
    "                add_column(casa_veraneo = (data$bienes_10 == 'Sí')) %>%\n",
    "                filter(question == 'P8_2') %>%\n",
    "                select(edad, sexo, REGION, accepts_violence)\n",
    "\n",
    "head(fft_data)"
   ]
  },
  {
   "cell_type": "code",
   "execution_count": 177,
   "metadata": {},
   "outputs": [
    {
     "name": "stderr",
     "output_type": "stream",
     "text": [
      "Growing FFTs with ifan\n",
      "Fitting non-FFTrees algorithms for comparison (you can turn this off with comp = FALSE) ...\n"
     ]
    }
   ],
   "source": [
    "fft <- FFTrees(formula = accepts_violence ~.,\n",
    "               data = fft_data)"
   ]
  },
  {
   "cell_type": "code",
   "execution_count": 179,
   "metadata": {},
   "outputs": [
    {
     "data": {
      "image/png": "[encoded data removed]",
      "text/plain": [
       "plot without title"
      ]
     },
     "metadata": {},
     "output_type": "display_data"
    }
   ],
   "source": [
    "plot(fft, tree=1)"
   ]
  },
  {
   "cell_type": "code",
   "execution_count": null,
   "metadata": {
    "collapsed": true
   },
   "outputs": [],
   "source": []
  }
 ],
 "metadata": {
  "kernelspec": {
   "display_name": "R",
   "language": "R",
   "name": "ir"
  },
  "language_info": {
   "codemirror_mode": "r",
   "file_extension": ".r",
   "mimetype": "text/x-r-source",
   "name": "R",
   "pygments_lexer": "r",
   "version": "3.3.1"
  }
 },
 "nbformat": 4,
 "nbformat_minor": 2
}
